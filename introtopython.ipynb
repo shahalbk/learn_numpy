{
  "nbformat": 4,
  "nbformat_minor": 0,
  "metadata": {
    "colab": {
      "provenance": [],
      "toc_visible": true,
      "generative_ai_disabled": true
    },
    "kernelspec": {
      "name": "python3",
      "display_name": "Python 3"
    },
    "language_info": {
      "name": "python"
    }
  },
  "cells": [
    {
      "cell_type": "code",
      "execution_count": null,
      "metadata": {
        "colab": {
          "base_uri": "https://localhost:8080/"
        },
        "id": "f0A7SOWTqiPm",
        "outputId": "4a43949d-be93-4c6e-a1db-3b91dbf165d6"
      },
      "outputs": [
        {
          "output_type": "stream",
          "name": "stdout",
          "text": [
            "10 -200 0\n"
          ]
        }
      ],
      "source": [
        "x=10\n",
        "y=-200\n",
        "z=0\n",
        "print (x,y,z)"
      ]
    },
    {
      "cell_type": "code",
      "source": [
        "my={\"name\":\"shahal\",\"age\":18,\"city\":\"vyttilla\"}\n",
        "my[\"age\"]=20\n",
        "my[\"email\"]=\"shahal@gmail\"\n",
        "print(my)\n",
        "age=my.pop(\"age\")\n",
        "print(my)\n",
        "print(age)"
      ],
      "metadata": {
        "colab": {
          "base_uri": "https://localhost:8080/"
        },
        "id": "UbPopBvYe7vq",
        "outputId": "d62b4075-ead2-4332-de9b-e660be356c7c"
      },
      "execution_count": null,
      "outputs": [
        {
          "output_type": "stream",
          "name": "stdout",
          "text": [
            "{'name': 'shahal', 'age': 20, 'city': 'vyttilla', 'email': 'shahal@gmail'}\n",
            "{'name': 'shahal', 'city': 'vyttilla', 'email': 'shahal@gmail'}\n",
            "20\n"
          ]
        }
      ]
    },
    {
      "cell_type": "code",
      "source": [
        "my_list =[1,2,3,'apple','orange']\n",
        "my_list[0]=10\n",
        "print(my_list)\n",
        "my_list.append(4)\n",
        "print(my_list)\n",
        "\n",
        "sub_list= my_list[1:4]\n",
        "print(sub_list)\n",
        "concatinated_list = my_list + [5,6]\n",
        "print(concatinated_list)\n",
        "\n",
        "l1=['sha',12]\n",
        "my_list.extend(l1)\n",
        "print(my_list)\n",
        "my_list.remove(3)\n",
        "print(my_list)\n",
        "\n",
        "my_list.insert(0,'shahal')\n",
        "print(my_list)"
      ],
      "metadata": {
        "id": "vyl5XUZvuIDm",
        "colab": {
          "base_uri": "https://localhost:8080/"
        },
        "outputId": "6256b14c-31d0-4b1f-c0fc-b94920a876e2"
      },
      "execution_count": null,
      "outputs": [
        {
          "output_type": "stream",
          "name": "stdout",
          "text": [
            "[10, 2, 3, 'apple', 'orange']\n",
            "[10, 2, 3, 'apple', 'orange', 4]\n",
            "[2, 3, 'apple']\n",
            "[10, 2, 3, 'apple', 'orange', 4, 5, 6]\n",
            "[10, 2, 3, 'apple', 'orange', 4, 'sha', 12]\n",
            "[10, 2, 'apple', 'orange', 4, 'sha', 12]\n",
            "['shahal', 10, 2, 'apple', 'orange', 4, 'sha', 12]\n"
          ]
        }
      ]
    },
    {
      "cell_type": "code",
      "source": [
        "l1 =[1,2,3,4,5]\n",
        "l2 =[3,4,5,6,7,8,9]\n",
        "l3 =l1+l2\n",
        "print(l3)"
      ],
      "metadata": {
        "colab": {
          "base_uri": "https://localhost:8080/"
        },
        "id": "oi1-BkUc65dU",
        "outputId": "8ddda7ce-a023-4e83-b77d-bdaa167f8286"
      },
      "execution_count": null,
      "outputs": [
        {
          "output_type": "stream",
          "name": "stdout",
          "text": [
            "[1, 2, 3, 4, 5, 3, 4, 5, 6, 7, 8, 9]\n"
          ]
        }
      ]
    },
    {
      "cell_type": "code",
      "source": [
        "l1 = ['z','x','a','d']\n",
        "l1.sort()\n",
        "print(l1)"
      ],
      "metadata": {
        "id": "ZNcY48AbuIAX",
        "colab": {
          "base_uri": "https://localhost:8080/"
        },
        "outputId": "b83a2202-954c-4a60-880a-8f4d93cb3e78"
      },
      "execution_count": null,
      "outputs": [
        {
          "output_type": "stream",
          "name": "stdout",
          "text": [
            "['a', 'd', 'x', 'z']\n"
          ]
        }
      ]
    },
    {
      "cell_type": "code",
      "source": [
        "t = (1,2,'banana',4.5)\n",
        "print(t)\n",
        "s2=t[1:3]\n",
        "print(s2)"
      ],
      "metadata": {
        "colab": {
          "base_uri": "https://localhost:8080/"
        },
        "id": "9AM75Unm-Re8",
        "outputId": "e50be881-3664-41e1-85a8-2564420df7cf"
      },
      "execution_count": null,
      "outputs": [
        {
          "output_type": "stream",
          "name": "stdout",
          "text": [
            "(1, 2, 'banana', 4.5)\n",
            "(2, 'banana')\n"
          ]
        }
      ]
    },
    {
      "cell_type": "code",
      "source": [
        "my={\"name\":\"shahal\",\"age\":18,\"city\":\"vyttilla\"}\n",
        "my[\"age\"]=20\n",
        "my[\"email\"]=\"shahal@gmail\"\n",
        "print(my)\n",
        "for key,value in my.items():\n",
        "  print(key,value)\n",
        "\n"
      ],
      "metadata": {
        "id": "vVuWqTdu1RmJ",
        "colab": {
          "base_uri": "https://localhost:8080/"
        },
        "outputId": "e58d7155-4ef5-4f24-d987-0002505a0bd0"
      },
      "execution_count": null,
      "outputs": [
        {
          "output_type": "stream",
          "name": "stdout",
          "text": [
            "{'name': 'shahal', 'age': 20, 'city': 'vyttilla', 'email': 'shahal@gmail'}\n",
            "name shahal\n",
            "age 20\n",
            "city vyttilla\n",
            "email shahal@gmail\n"
          ]
        }
      ]
    },
    {
      "cell_type": "code",
      "source": [
        "my={\"name\":\"shahal\",\"age\":18,\"city\":\"vyttilla\"}\n",
        "my[\"age\"]=20\n",
        "my[\"email\"]=\"shahal@gmail\"\n",
        "print(my)\n",
        "for key in my.keys():\n",
        "  print(key)\n"
      ],
      "metadata": {
        "id": "t9UWM2cO674l",
        "outputId": "7c93169b-5fd0-423c-a701-4675621806eb",
        "colab": {
          "base_uri": "https://localhost:8080/"
        }
      },
      "execution_count": null,
      "outputs": [
        {
          "output_type": "stream",
          "name": "stdout",
          "text": [
            "{'name': 'shahal', 'age': 20, 'city': 'vyttilla', 'email': 'shahal@gmail'}\n",
            "name\n",
            "age\n",
            "city\n",
            "email\n"
          ]
        }
      ]
    },
    {
      "cell_type": "code",
      "source": [
        "my={\"name\":\"shahal\",\"age\":18,\"city\":\"vyttilla\"}\n",
        "my[\"age\"]=20\n",
        "my[\"email\"]=\"shahal@gmail\"\n",
        "print(my)\n",
        "for value in my.values():\n",
        "  print(value)"
      ],
      "metadata": {
        "colab": {
          "base_uri": "https://localhost:8080/"
        },
        "id": "UB1JdSit7BPc",
        "outputId": "ec7edf32-c3a3-409d-9081-db938c3a4268"
      },
      "execution_count": null,
      "outputs": [
        {
          "output_type": "stream",
          "name": "stdout",
          "text": [
            "{'name': 'shahal', 'age': 20, 'city': 'vyttilla', 'email': 'shahal@gmail'}\n",
            "shahal\n",
            "20\n",
            "vyttilla\n",
            "shahal@gmail\n"
          ]
        }
      ]
    },
    {
      "cell_type": "code",
      "source": [
        "is_equal=(10==10)\n",
        "print(is_equal)"
      ],
      "metadata": {
        "colab": {
          "base_uri": "https://localhost:8080/"
        },
        "id": "BuNl68MS71bs",
        "outputId": "06efd166-2adc-4058-9aa9-2a1f3d669e82"
      },
      "execution_count": null,
      "outputs": [
        {
          "output_type": "stream",
          "name": "stdout",
          "text": [
            "True\n"
          ]
        }
      ]
    },
    {
      "cell_type": "code",
      "source": [
        "s={1,2,3,4,5}\n",
        "s.add(6)\n",
        "print (s)\n"
      ],
      "metadata": {
        "colab": {
          "base_uri": "https://localhost:8080/"
        },
        "id": "FiJD-tcrBWSV",
        "outputId": "adde1f8e-8938-4529-9198-09153c584ac1"
      },
      "execution_count": null,
      "outputs": [
        {
          "output_type": "stream",
          "name": "stdout",
          "text": [
            "{1, 2, 3, 4, 5, 6}\n"
          ]
        }
      ]
    },
    {
      "cell_type": "code",
      "source": [
        "s={1,2,3,4,5}\n",
        "s.remove(3)\n",
        "print(s)\n",
        "print(2 in s)\n",
        "print(6 not in s)"
      ],
      "metadata": {
        "colab": {
          "base_uri": "https://localhost:8080/"
        },
        "id": "1EMYdpUpBvU6",
        "outputId": "8a47f022-bd49-4b98-e042-d1c505708f26"
      },
      "execution_count": null,
      "outputs": [
        {
          "output_type": "stream",
          "name": "stdout",
          "text": [
            "{1, 2, 4, 5}\n",
            "True\n",
            "True\n"
          ]
        }
      ]
    },
    {
      "cell_type": "code",
      "source": [
        "x=\"hello, world!\"\n",
        "print(x[0])\n",
        "print(x[7:12])\n",
        "y=x.split(\",\")\n",
        "print(y)\n",
        "z=\"-\".join(y)\n",
        "print(z)"
      ],
      "metadata": {
        "colab": {
          "base_uri": "https://localhost:8080/"
        },
        "id": "mLV7NbtWGjzz",
        "outputId": "198642e8-9acc-491f-c0bb-01ca3edbd599"
      },
      "execution_count": null,
      "outputs": [
        {
          "output_type": "stream",
          "name": "stdout",
          "text": [
            "h\n",
            "world\n",
            "['hello', ' world!']\n",
            "hello- world!\n"
          ]
        }
      ]
    },
    {
      "cell_type": "code",
      "source": [
        "s1={1,2,3}\n",
        "s2={3,4,5}\n",
        "union_set =s1|s2\n",
        "print(union_set)\n",
        "intersection_set=s1&s2\n",
        "print(intersection_set)\n",
        "difference_set=s1-s2\n",
        "print(difference_set)\n"
      ],
      "metadata": {
        "colab": {
          "base_uri": "https://localhost:8080/"
        },
        "id": "GtJzBPqaB7nl",
        "outputId": "c9e09a06-bc9f-45a0-a7c6-15f8ee753588"
      },
      "execution_count": null,
      "outputs": [
        {
          "output_type": "stream",
          "name": "stdout",
          "text": [
            "{1, 2, 3, 4, 5}\n",
            "{3}\n",
            "{1, 2}\n"
          ]
        }
      ]
    },
    {
      "cell_type": "code",
      "source": [
        "x=10.9\n",
        "y=-200.9\n",
        "z=0.7\n",
        "print(x,y,z)"
      ],
      "metadata": {
        "colab": {
          "base_uri": "https://localhost:8080/"
        },
        "id": "bh1E7QK6vNng",
        "outputId": "3be4319a-e127-4ce6-bb23-72dfc8f6bf66"
      },
      "execution_count": null,
      "outputs": [
        {
          "output_type": "stream",
          "name": "stdout",
          "text": [
            "10.9 -200.9 0.7\n"
          ]
        }
      ]
    },
    {
      "cell_type": "code",
      "source": [
        "w=3+4j\n",
        "x=-1.5+2.5j\n",
        "y=2-3.3j\n",
        "z=-1j\n",
        "print(w,x,y,z)"
      ],
      "metadata": {
        "colab": {
          "base_uri": "https://localhost:8080/"
        },
        "id": "dlekV243vu9u",
        "outputId": "e7c26dc7-797a-4a82-cb7e-f8c29b6d40e7"
      },
      "execution_count": null,
      "outputs": [
        {
          "output_type": "stream",
          "name": "stdout",
          "text": [
            "(3+4j) (-1.5+2.5j) (2-3.3j) (-0-1j)\n"
          ]
        }
      ]
    },
    {
      "cell_type": "code",
      "source": [
        "print(\"sum =\",5+2)"
      ],
      "metadata": {
        "colab": {
          "base_uri": "https://localhost:8080/"
        },
        "id": "SC8VakUvwdoP",
        "outputId": "bf884b31-ae38-49ce-8c0a-1c4986416e05"
      },
      "execution_count": null,
      "outputs": [
        {
          "output_type": "stream",
          "name": "stdout",
          "text": [
            "sum = 7\n"
          ]
        }
      ]
    },
    {
      "cell_type": "code",
      "source": [
        "a = int (input(\"enter a number\"))\n",
        "b= int(input(\"enter a number\"))\n",
        "print(\"sum\",a+b)"
      ],
      "metadata": {
        "id": "fZGzmvVczLH8",
        "outputId": "d9aac5d4-b790-4335-c00b-196c8279dbdc",
        "colab": {
          "base_uri": "https://localhost:8080/"
        }
      },
      "execution_count": null,
      "outputs": [
        {
          "output_type": "stream",
          "name": "stdout",
          "text": [
            "enter a number23\n",
            "sum 36\n"
          ]
        }
      ]
    },
    {
      "cell_type": "code",
      "source": [
        "print(2>=3)\n",
        "print(3<=3)\n",
        "print(3!=4)"
      ],
      "metadata": {
        "id": "UbiaEc0e1H10",
        "colab": {
          "base_uri": "https://localhost:8080/"
        },
        "outputId": "c1e5a4d4-c0c7-42dc-e099-2118bdc708b0"
      },
      "execution_count": null,
      "outputs": [
        {
          "metadata": {
            "tags": null
          },
          "name": "stdout",
          "output_type": "stream",
          "text": [
            "False\n",
            "True\n",
            "True\n"
          ]
        }
      ]
    },
    {
      "cell_type": "code",
      "source": [
        "a=str(input(\"enter a name\"))\n",
        "print(a)"
      ],
      "metadata": {
        "id": "pRYibkZW14LY",
        "colab": {
          "base_uri": "https://localhost:8080/"
        },
        "outputId": "8f9061d6-f0d9-4cf3-a658-b1ae78a73445"
      },
      "execution_count": null,
      "outputs": [
        {
          "output_type": "stream",
          "name": "stdout",
          "text": [
            "enter a namehwkl\n",
            "hwkl\n"
          ]
        }
      ]
    },
    {
      "cell_type": "code",
      "source": [
        "my={\"name\":\"shahal\",\"age\":18,\"city\":\"vyttilla\"}\n",
        "my[\"age\"]=20\n",
        "my[\"email\"]=\"shahal@gmail\"\n",
        "print(my)\n",
        "del my[\"city\"]\n",
        "print(my)"
      ],
      "metadata": {
        "id": "bP19PxEF24jE",
        "colab": {
          "base_uri": "https://localhost:8080/"
        },
        "outputId": "a6e441da-01e9-408e-fe5b-14e47d3b8454"
      },
      "execution_count": null,
      "outputs": [
        {
          "output_type": "stream",
          "name": "stdout",
          "text": [
            "{'name': 'shahal', 'age': 20, 'city': 'vyttilla', 'email': 'shahal@gmail'}\n",
            "{'name': 'shahal', 'age': 20, 'email': 'shahal@gmail'}\n"
          ]
        }
      ]
    },
    {
      "cell_type": "code",
      "source": [
        "t1 = (1,2,5,7,5)\n",
        "t2 = (3,4,5,6,7,8,9,9)\n",
        "t3 = t1 + t2\n",
        "print(t3)\n",
        "t4 = t3+(100,400)\n",
        "print(t4)"
      ],
      "metadata": {
        "id": "VwNjOiWmAn_T",
        "colab": {
          "base_uri": "https://localhost:8080/"
        },
        "outputId": "53f21449-2a11-4e80-e8b2-f19f3819cb32"
      },
      "execution_count": null,
      "outputs": [
        {
          "output_type": "stream",
          "name": "stdout",
          "text": [
            "(1, 2, 5, 7, 5, 3, 4, 5, 6, 7, 8, 9, 9)\n",
            "(1, 2, 5, 7, 5, 3, 4, 5, 6, 7, 8, 9, 9, 100, 400)\n"
          ]
        }
      ]
    },
    {
      "cell_type": "code",
      "source": [
        "d = {'name':'shahal','age':20,'flower':'pot'}\n",
        "d['city'] =\"new york\"\n",
        "print(d)\n",
        "del d['city']\n",
        "print(d)\n",
        "print(d[\"name\"])\n",
        "abc =d[\"name\"]\n",
        "print(abc)\n",
        "d.pop('age')\n",
        "print(d)\n",
        "for key in d.keys():\n",
        "  print(key)\n",
        "for value in d.values():\n",
        "  print(value)\n",
        "d['age']=30\n",
        "print(d)\n",
        "print(type(d))"
      ],
      "metadata": {
        "id": "DTvcFR9uCix7",
        "colab": {
          "base_uri": "https://localhost:8080/"
        },
        "outputId": "eef6b60f-002b-469a-9c5c-47ef92801ea4"
      },
      "execution_count": null,
      "outputs": [
        {
          "metadata": {
            "tags": null
          },
          "name": "stdout",
          "output_type": "stream",
          "text": [
            "{'name': 'shahal', 'age': 20, 'flower': 'pot', 'city': 'new york'}\n",
            "{'name': 'shahal', 'age': 20, 'flower': 'pot'}\n",
            "shahal\n",
            "shahal\n",
            "{'name': 'shahal', 'flower': 'pot'}\n",
            "name\n",
            "flower\n",
            "shahal\n",
            "pot\n",
            "{'name': 'shahal', 'flower': 'pot', 'age': 30}\n",
            "<class 'dict'>\n"
          ]
        }
      ]
    },
    {
      "cell_type": "code",
      "source": [
        "d1 = dict(Name=\"shahal\", age=20)#where dict() is a constructor\n",
        "print(d1)\n",
        "print(type(d1))"
      ],
      "metadata": {
        "id": "DQvcCmcsANl0",
        "colab": {
          "base_uri": "https://localhost:8080/"
        },
        "outputId": "d0a51161-45ed-475e-d0b3-84db68223b7a"
      },
      "execution_count": null,
      "outputs": [
        {
          "metadata": {
            "tags": null
          },
          "name": "stdout",
          "output_type": "stream",
          "text": [
            "{'Name': 'shahal', 'age': 20}\n",
            "<class 'dict'>\n"
          ]
        }
      ]
    },
    {
      "cell_type": "code",
      "source": [
        "d1 = dict(Name=\"shahal\", age=20)\n",
        "dc = d1.copy()#used to copy\n",
        "print(dc)"
      ],
      "metadata": {
        "id": "oafsT0sCMfVI",
        "colab": {
          "base_uri": "https://localhost:8080/"
        },
        "outputId": "a1128aa6-cde2-4bb4-b788-2fe309a77ba4"
      },
      "execution_count": null,
      "outputs": [
        {
          "metadata": {
            "tags": null
          },
          "name": "stdout",
          "output_type": "stream",
          "text": [
            "{'Name': 'shahal', 'age': 20}\n"
          ]
        }
      ]
    },
    {
      "cell_type": "code",
      "source": [
        "d1 = {'fdgfg':\"abc\", 'age':4}\n",
        "d2 = {'Name':\"shahal\", 'age':20}\n",
        "d1 = d2.copy()\n",
        "print(d1)\n"
      ],
      "metadata": {
        "id": "s8K6XSsiPI4q",
        "colab": {
          "base_uri": "https://localhost:8080/"
        },
        "outputId": "1359af67-b210-4e9e-c251-ef0cde1daef6"
      },
      "execution_count": null,
      "outputs": [
        {
          "output_type": "stream",
          "name": "stdout",
          "text": [
            "{'Name': 'shahal', 'age': 20}\n"
          ]
        }
      ]
    },
    {
      "cell_type": "code",
      "source": [
        "#nested dict\n",
        "x ={\n",
        "    \"std1\":{\n",
        "           'name':'abin',\n",
        "            'age':21\n",
        "           },\n",
        "\n",
        "        \"std2\":{\n",
        "              'name':\"naheem\",\n",
        "              'age':23\n",
        "        }\n",
        "    }\n",
        "\n",
        "print(x)\n",
        "\n",
        "my_dict = {\n",
        "    \"person1\": {\"name\": \"Shahal\", \"age\": 20},\n",
        "    \"person2\": {\"name\": \"Alex\", \"age\": 25}\n",
        "}\n",
        "print(my_dict)\n"
      ],
      "metadata": {
        "id": "Fj5A4uETSO2I",
        "colab": {
          "base_uri": "https://localhost:8080/"
        },
        "outputId": "a1453536-eea6-4611-aa12-f50340d8bd03"
      },
      "execution_count": null,
      "outputs": [
        {
          "output_type": "stream",
          "name": "stdout",
          "text": [
            "{'std1': {'name': 'abin', 'age': 21}, 'std2': {'name': 'naheem', 'age': 23}}\n",
            "{'person1': {'name': 'Shahal', 'age': 20}, 'person2': {'name': 'Alex', 'age': 25}}\n"
          ]
        }
      ]
    },
    {
      "cell_type": "code",
      "source": [
        "def hello():\n",
        "  print(\"hello george sir aanu\")\n",
        "\n",
        "hello()"
      ],
      "metadata": {
        "id": "4u6bFIodURx_",
        "colab": {
          "base_uri": "https://localhost:8080/"
        },
        "outputId": "41c99994-3c2f-4aea-e0d0-a26fdce0dd74"
      },
      "execution_count": null,
      "outputs": [
        {
          "metadata": {
            "tags": null
          },
          "name": "stdout",
          "output_type": "stream",
          "text": [
            "hello george sir aanu\n"
          ]
        }
      ]
    },
    {
      "cell_type": "code",
      "source": [
        "def add(a,b):\n",
        "  return a+b\n",
        "print(add(2,5))"
      ],
      "metadata": {
        "id": "sB9ZLRVhX8sP",
        "colab": {
          "base_uri": "https://localhost:8080/"
        },
        "outputId": "15430259-7ea8-484e-ffa7-45452d6e764b"
      },
      "execution_count": null,
      "outputs": [
        {
          "metadata": {
            "tags": null
          },
          "name": "stdout",
          "output_type": "stream",
          "text": [
            "7\n"
          ]
        }
      ]
    },
    {
      "cell_type": "code",
      "source": [
        "def greet(name):\n",
        "  print(\"hello \"+name)\n",
        "\n",
        "greet(\"sha\")"
      ],
      "metadata": {
        "id": "QoowM5GMYJp-",
        "colab": {
          "base_uri": "https://localhost:8080/"
        },
        "outputId": "6ff757e2-9619-49a1-9c39-c58bb7ee0498"
      },
      "execution_count": null,
      "outputs": [
        {
          "output_type": "stream",
          "name": "stdout",
          "text": [
            "hello sha\n"
          ]
        }
      ]
    },
    {
      "cell_type": "code",
      "source": [
        "mul = lambda x,y: x*y\n",
        "result = mul(3,4)\n",
        "print(result)\n",
        "\n",
        "r3= mul(6,8)\n",
        "print(r3)"
      ],
      "metadata": {
        "id": "ohMlaQMJZOLu",
        "colab": {
          "base_uri": "https://localhost:8080/"
        },
        "outputId": "89433f29-d0fb-4451-842b-0de2ee3e3adf"
      },
      "execution_count": null,
      "outputs": [
        {
          "output_type": "stream",
          "name": "stdout",
          "text": [
            "12\n",
            "48\n"
          ]
        }
      ]
    },
    {
      "cell_type": "code",
      "source": [
        "l= [[2,4,\"banana\"],[6,7,8]]\n",
        "print(l[0])"
      ],
      "metadata": {
        "id": "8aITh9OYUtAu",
        "colab": {
          "base_uri": "https://localhost:8080/"
        },
        "outputId": "9b6f2496-a4e0-4f7d-ba3e-47631402461e"
      },
      "execution_count": null,
      "outputs": [
        {
          "output_type": "stream",
          "name": "stdout",
          "text": [
            "[2, 4, 'banana']\n"
          ]
        }
      ]
    },
    {
      "cell_type": "code",
      "source": [
        "t = ((3,5,6),(7,9,0))\n",
        "print(t)"
      ],
      "metadata": {
        "id": "ny8bwyXjXJoY",
        "colab": {
          "base_uri": "https://localhost:8080/"
        },
        "outputId": "8a5ca995-11ef-4681-ef5d-ef9a9ea37ff0"
      },
      "execution_count": null,
      "outputs": [
        {
          "metadata": {
            "tags": null
          },
          "name": "stdout",
          "output_type": "stream",
          "text": [
            "((3, 5, 6), (7, 9, 0))\n"
          ]
        }
      ]
    },
    {
      "cell_type": "code",
      "source": [
        "l = [4,7,9]\n",
        "l2 = l.copy()\n",
        "print(l2)"
      ],
      "metadata": {
        "id": "FYjhbKvEXjUP",
        "colab": {
          "base_uri": "https://localhost:8080/"
        },
        "outputId": "c31f1327-8ea9-4ffd-f425-ad81423a4dc6"
      },
      "execution_count": null,
      "outputs": [
        {
          "metadata": {
            "tags": null
          },
          "name": "stdout",
          "output_type": "stream",
          "text": [
            "[4, 7, 9]\n"
          ]
        }
      ]
    },
    {
      "cell_type": "code",
      "source": [
        "t =(7,8,9)\n",
        "t2 = t#we can't use copy because its immutable\n",
        "print(t2)"
      ],
      "metadata": {
        "id": "jm-p0OPjXwVS",
        "colab": {
          "base_uri": "https://localhost:8080/"
        },
        "outputId": "cb2654e3-bd62-49f4-f031-5f94bebd6a2a"
      },
      "execution_count": null,
      "outputs": [
        {
          "metadata": {
            "tags": null
          },
          "name": "stdout",
          "output_type": "stream",
          "text": [
            "(7, 8, 9)\n"
          ]
        }
      ]
    },
    {
      "cell_type": "code",
      "source": [
        "t = (1,2,'me')\n",
        "l = list(t)\n",
        "print(l)\n",
        "print(type(l))\n",
        "print(type(t))"
      ],
      "metadata": {
        "id": "76uSPAd3qhFj",
        "colab": {
          "base_uri": "https://localhost:8080/"
        },
        "outputId": "fd313be7-47ba-474d-f1b3-8e5a403d85a0"
      },
      "execution_count": null,
      "outputs": [
        {
          "metadata": {
            "tags": null
          },
          "name": "stdout",
          "output_type": "stream",
          "text": [
            "[1, 2, 'me']\n",
            "<class 'list'>\n",
            "<class 'tuple'>\n"
          ]
        }
      ]
    },
    {
      "cell_type": "code",
      "source": [
        "l =[2,4,6,'sh']\n",
        "t = tuple(l)\n",
        "print(t)"
      ],
      "metadata": {
        "id": "E0ulKS3Hq4Wm",
        "colab": {
          "base_uri": "https://localhost:8080/"
        },
        "outputId": "1ca846ca-f366-403b-c7db-fa32f488ad37"
      },
      "execution_count": null,
      "outputs": [
        {
          "output_type": "stream",
          "name": "stdout",
          "text": [
            "(2, 4, 6, 'sh')\n"
          ]
        }
      ]
    },
    {
      "cell_type": "code",
      "source": [
        "a=100\n",
        "b=30\n",
        "if b>a:\n",
        "  print (\"b>a\")\n",
        "elif b==a:\n",
        "  print(\"b==a\")\n",
        "else:\n",
        "  print(\"a>b\")"
      ],
      "metadata": {
        "id": "UmC5LkYUDHLd",
        "colab": {
          "base_uri": "https://localhost:8080/"
        },
        "outputId": "4672d486-75d7-48bb-d325-bba172ba2f6c"
      },
      "execution_count": null,
      "outputs": [
        {
          "metadata": {
            "tags": null
          },
          "name": "stdout",
          "output_type": "stream",
          "text": [
            "a>b\n"
          ]
        }
      ]
    },
    {
      "cell_type": "code",
      "source": [
        "a=int(input(\"enter a nnumber\"))\n",
        "b=int(input(\"enter a number\"))\n",
        "if b>a:\n",
        "  print (b,\">\",a)\n",
        "elif b==a:\n",
        "  print(b,\"==\",a)\n",
        "else:\n",
        "  print(a,\">\",b)"
      ],
      "metadata": {
        "id": "Vo-x1yNtE_kq",
        "colab": {
          "base_uri": "https://localhost:8080/"
        },
        "outputId": "7848c6f8-da92-446e-b0e6-d77c6bdef055"
      },
      "execution_count": null,
      "outputs": [
        {
          "output_type": "stream",
          "name": "stdout",
          "text": [
            "enter a nnumber34\n",
            "enter a number56\n",
            "56 > 34\n"
          ]
        }
      ]
    },
    {
      "cell_type": "code",
      "source": [
        "a=100\n",
        "b=30\n",
        "c=12\n",
        "if a>b and a>c:\n",
        "  print(\"yes\")\n",
        "\n"
      ],
      "metadata": {
        "id": "A1QZVdC7JQs4"
      },
      "execution_count": null,
      "outputs": []
    },
    {
      "cell_type": "code",
      "source": [
        "a=100\n",
        "b=30\n",
        "c=12\n",
        "if a>b or a>b:\n",
        "  print(\"yes\")\n"
      ],
      "metadata": {
        "id": "OqS0oifrM4sl"
      },
      "execution_count": null,
      "outputs": []
    },
    {
      "cell_type": "code",
      "source": [
        "a=100\n",
        "b=200\n",
        "if not a>b or not b>a:\n",
        "  print(\"no\")\n"
      ],
      "metadata": {
        "id": "BpmIBP7GNceE"
      },
      "execution_count": null,
      "outputs": []
    },
    {
      "cell_type": "code",
      "source": [
        "a=100\n",
        "b=200\n",
        "if not a>b and b>a:\n",
        "  print(\"no\")\n"
      ],
      "metadata": {
        "id": "3adGmUoIPLX9"
      },
      "execution_count": null,
      "outputs": []
    },
    {
      "cell_type": "code",
      "source": [
        "no=(100,200,300)\n",
        "for y in no:\n",
        "  print(y)\n"
      ],
      "metadata": {
        "id": "WvWxnXvEPaB6"
      },
      "execution_count": null,
      "outputs": []
    },
    {
      "cell_type": "code",
      "source": [
        "no=\"apple\"\n",
        "for x in no:\n",
        " print(x)"
      ],
      "metadata": {
        "id": "eEtZvsdsTtNi"
      },
      "execution_count": null,
      "outputs": []
    },
    {
      "cell_type": "code",
      "source": [
        "f=(\"apple\",\"orange\",\"banana\",\"mango\")\n",
        "for d in f:\n",
        "  if d==\"banana\":\n",
        "   break\n",
        "  print(d)"
      ],
      "metadata": {
        "id": "Xov0qcZVaaaR"
      },
      "execution_count": null,
      "outputs": []
    },
    {
      "cell_type": "code",
      "source": [
        "f=(\"apple\",\"orange\",\"banana\",\"mango\")\n",
        "for d in f:\n",
        "  if d==\"banana\":\n",
        "   continue\n",
        "  print(d)"
      ],
      "metadata": {
        "id": "uwD1dPYBZ_5p"
      },
      "execution_count": null,
      "outputs": []
    },
    {
      "cell_type": "code",
      "source": [
        "with open(\"\")"
      ],
      "metadata": {
        "id": "wJnmcd2B2IHx"
      },
      "execution_count": null,
      "outputs": []
    },
    {
      "cell_type": "code",
      "source": [
        "for x in [0,1,2]:\n",
        "  pass\n",
        "  print (x)"
      ],
      "metadata": {
        "id": "9mKSUckQehOy"
      },
      "execution_count": null,
      "outputs": []
    },
    {
      "cell_type": "code",
      "source": [
        "x=0\n",
        "while x<5:\n",
        "  print(x)\n",
        "  x+=1"
      ],
      "metadata": {
        "id": "caCeDCKle00S"
      },
      "execution_count": null,
      "outputs": []
    },
    {
      "cell_type": "code",
      "source": [
        "#file = open('shahal.txt','w')or\n",
        "with open('file.txt','w') as file:\n",
        "  file.write(\"hello njan george sir aanu..\")\n",
        "with open('file.txt','r') as file:\n",
        "  content=file.read()\n",
        "  print(content)\n",
        " \"\"\"file = open('s1.txt','w')\n",
        "file.write('hellooo')\n",
        "file = open('s1.txt','r')\n",
        "fobj = file.read()\n",
        "print(fobj)\"\"\""
      ],
      "metadata": {
        "id": "6wWnH3v8hedF"
      },
      "execution_count": null,
      "outputs": []
    },
    {
      "cell_type": "code",
      "source": [
        "with open('Shahal.txt','w')as file:\n",
        "  file.write(\"Helooooo\")\n"
      ],
      "metadata": {
        "id": "Zb5JwqVJ2hyM"
      },
      "execution_count": null,
      "outputs": []
    },
    {
      "cell_type": "code",
      "source": [
        "with open('Shahal.txt','r')as file:\n",
        "  content = file.read()"
      ],
      "metadata": {
        "id": "br1EHlUW2zWW"
      },
      "execution_count": null,
      "outputs": []
    },
    {
      "cell_type": "code",
      "source": [
        "print(content)"
      ],
      "metadata": {
        "id": "LJVf0ELB3C3r"
      },
      "execution_count": null,
      "outputs": []
    },
    {
      "cell_type": "code",
      "source": [
        "with open('shahal.txt','w')as file:\n",
        "  file.write(\"line 1:hello world\\n\")\n",
        "  file.write(\"line 2:welcome to file\\n\")\n",
        "  file.write(\"line 3:pythobn is powerful\\n\")\n"
      ],
      "metadata": {
        "id": "FdDkwGye3ENK"
      },
      "execution_count": null,
      "outputs": []
    },
    {
      "cell_type": "code",
      "source": [
        "with open('shahal.txt','r')as file:\n",
        "  print(\"using read():\")\n",
        "  content=file.read()\n",
        "  print(content)\n"
      ],
      "metadata": {
        "id": "HTMMnRMV4U_2",
        "colab": {
          "base_uri": "https://localhost:8080/"
        },
        "outputId": "14f1a99b-7767-4531-e533-5d7fe9908d12"
      },
      "execution_count": null,
      "outputs": [
        {
          "output_type": "stream",
          "name": "stdout",
          "text": [
            "using read():\n",
            "line 1:hello world\n",
            "line 2:welcome to file\n",
            "line 3:pythobn is powerful\n",
            "\n"
          ]
        }
      ]
    },
    {
      "cell_type": "code",
      "source": [
        "with open('shahal.txt','r') as file:\n",
        "  print(\"reading using readline():\")\n",
        "  line=file.readline()\n",
        "  print(line)\n",
        "  line2=file.readline()\n",
        "  print(line2)"
      ],
      "metadata": {
        "id": "PTHGFd0h5N9C",
        "colab": {
          "base_uri": "https://localhost:8080/"
        },
        "outputId": "20a6948b-df2a-463d-bd59-02226e5911d0"
      },
      "execution_count": null,
      "outputs": [
        {
          "output_type": "stream",
          "name": "stdout",
          "text": [
            "reading using readline():\n",
            "line 1:hello world\n",
            "\n",
            "line 2:welcome to file\n",
            "\n"
          ]
        }
      ]
    },
    {
      "cell_type": "code",
      "source": [
        "with open('shahal.txt','r') as file:\n",
        "  print(\"reading using readlines()\")\n",
        "  list1=file.readlines()\n",
        "  print(list1)"
      ],
      "metadata": {
        "id": "nZbPhkwU7ZCA"
      },
      "execution_count": null,
      "outputs": []
    },
    {
      "cell_type": "code",
      "source": [
        "with open('shahal.txt','a') as file:\n",
        "  file.write(\"line 4: this is append line\\n\")\n",
        "with open('shahal.txt','r') as file:\n",
        "  content = file.read()\n",
        "  print(content)"
      ],
      "metadata": {
        "id": "Ag3zX_hA9TTz"
      },
      "execution_count": null,
      "outputs": []
    },
    {
      "cell_type": "code",
      "source": [
        "try:\n",
        "  with open('demo10996.txt','x') as file:\n",
        "    file.write(\"this file was created using 'x' mode\")\n",
        "\n",
        "except FileExistsError:\n",
        "  print(\"already exists \")"
      ],
      "metadata": {
        "id": "yGy84Fd1_o3M"
      },
      "execution_count": null,
      "outputs": []
    },
    {
      "cell_type": "code",
      "source": [
        "try:\n",
        "  x=10/0\n",
        "except ZeroDivisionError:\n",
        "  print(\"you cannot divive by zero\")"
      ],
      "metadata": {
        "id": "oEfH5NK1Vbm8"
      },
      "execution_count": null,
      "outputs": []
    },
    {
      "cell_type": "code",
      "source": [
        "try:\n",
        "  num=int(\"abxc\")\n",
        "except ValueError as e:\n",
        " print(f\"An erroe occured:{e}\")\n"
      ],
      "metadata": {
        "id": "HZ9KIOBkV7UJ"
      },
      "execution_count": null,
      "outputs": []
    },
    {
      "cell_type": "code",
      "source": [
        "try:\n",
        "  x=int(\"abc\")\n",
        "  y=10/0\n",
        "except ValueError:\n",
        "  print(\"invalid value!\")\n",
        "except ZeroDivisionError:\n",
        "  print(\"cannot divide by zero!\")"
      ],
      "metadata": {
        "id": "daFdaNSPXDuQ"
      },
      "execution_count": null,
      "outputs": []
    },
    {
      "cell_type": "code",
      "source": [
        "try:\n",
        "  x=int(\"abc\")\n",
        "  y=10/0\n",
        "except (ValueError,ZeroDivisionError) as e:\n",
        "  print(\"invalid value!\",e)\n"
      ],
      "metadata": {
        "id": "o7yZBnaRZooA"
      },
      "execution_count": null,
      "outputs": []
    },
    {
      "cell_type": "code",
      "source": [
        "from logging import exception\n",
        "try:\n",
        "  x=int(\"abc\")\n",
        "except Exception as e:\n",
        "  print(\"some error occured\",e)"
      ],
      "metadata": {
        "id": "cDaPiGXqZ2hh"
      },
      "execution_count": null,
      "outputs": []
    },
    {
      "cell_type": "code",
      "source": [
        "try:\n",
        "  x=10/0\n",
        "except ZeroDivisionError:\n",
        "  print(\"error\")\n",
        "finally:\n",
        "    print(\"this will always run\")"
      ],
      "metadata": {
        "id": "SWTCsTPtZ-R9"
      },
      "execution_count": null,
      "outputs": []
    },
    {
      "cell_type": "code",
      "source": [
        "#1\n",
        "a = float(input(\"enter a number:\"))\n",
        "b = float(input(\"enter another number:\"))\n",
        "print(\"addition is \",a+b)\n",
        "print(\"subtraction is ,\",a-b)\n",
        "print(\"multiplication is:\",a*b)\n",
        "\n",
        "try:\n",
        "  print(\"division is :\",a/b)\n",
        "except ZeroDivisionError:\n",
        "  print(\"can't divided by 0\")"
      ],
      "metadata": {
        "id": "M_UYpUsQcZLb",
        "colab": {
          "base_uri": "https://localhost:8080/"
        },
        "outputId": "954dfade-8780-4f0a-9f2c-a21569d1c515"
      },
      "execution_count": null,
      "outputs": [
        {
          "output_type": "stream",
          "name": "stdout",
          "text": [
            "enter a number:45\n",
            "enter another number:56\n",
            "addition is  101.0\n",
            "subtraction is , -11.0\n",
            "multiplication is: 2520.0\n",
            "division is : 0.8035714285714286\n"
          ]
        }
      ]
    },
    {
      "cell_type": "code",
      "source": [
        "#2\n",
        "from os import supports_follow_symlinks\n",
        "a = complex(input(\"enter a complex number\"))\n",
        "b = complex(input(\"enter a complex number:\"))\n",
        "sum=a+b\n",
        "print(sum)"
      ],
      "metadata": {
        "colab": {
          "base_uri": "https://localhost:8080/"
        },
        "id": "V8jzAS6msW2O",
        "outputId": "ccceb5d5-6a15-41b2-c691-720983961db3"
      },
      "execution_count": null,
      "outputs": [
        {
          "output_type": "stream",
          "name": "stdout",
          "text": [
            "enter a complex number78\n",
            "enter a complex number:56j\n",
            "(78+56j)\n"
          ]
        }
      ]
    },
    {
      "cell_type": "code",
      "source": [
        "#3\n",
        "a = input(\"enter a word:\")\n",
        "b=len(a.split())\n",
        "print(b)\n",
        "\n"
      ],
      "metadata": {
        "colab": {
          "base_uri": "https://localhost:8080/"
        },
        "id": "-tdzUYJEuaBB",
        "outputId": "aef84a10-186b-4f2a-a467-b9abc13afdeb"
      },
      "execution_count": null,
      "outputs": [
        {
          "output_type": "stream",
          "name": "stdout",
          "text": [
            "enter a word:gh hhj\n",
            "2\n"
          ]
        }
      ]
    },
    {
      "cell_type": "code",
      "source": [
        "#4\n",
        "l1 = [5,4,3,2,1]\n",
        "l1.append(6)\n",
        "print(l1)\n",
        "l1.pop(2)\n",
        "print(l1)\n",
        "l1.sort()\n",
        "print(l1)\n"
      ],
      "metadata": {
        "colab": {
          "base_uri": "https://localhost:8080/"
        },
        "id": "2rUw3JbhwBsC",
        "outputId": "6926e282-6f78-45d9-f847-10c8674cabc5"
      },
      "execution_count": null,
      "outputs": [
        {
          "output_type": "stream",
          "name": "stdout",
          "text": [
            "[5, 4, 3, 2, 1, 6]\n",
            "[5, 4, 2, 1, 6]\n",
            "[1, 2, 4, 5, 6]\n"
          ]
        }
      ]
    },
    {
      "cell_type": "code",
      "source": [
        "#5\n",
        "t = (5,4,3,2,1)\n",
        "l =list(t)\n",
        "l.insert(2,99)\n",
        "l.sort()\n",
        "print(\"the list is :\",l)\n",
        "t = list(l)\n",
        "print(t)\n"
      ],
      "metadata": {
        "colab": {
          "base_uri": "https://localhost:8080/"
        },
        "id": "hYkVFTx3xHv3",
        "outputId": "24eecd10-c93e-4c1f-d950-1adece169b03"
      },
      "execution_count": null,
      "outputs": [
        {
          "output_type": "stream",
          "name": "stdout",
          "text": [
            "the list is : [1, 2, 3, 4, 5, 99]\n",
            "[1, 2, 3, 4, 5, 99]\n"
          ]
        }
      ]
    },
    {
      "cell_type": "code",
      "source": [
        "#6\n",
        "s1 = set(input(\"enter elements for set 1: \"))\n",
        "s2 = set(input(\"enter elements for set 2: \"))\n",
        "union = s1|s2 #s1.union(s2)\n",
        "print(union)\n",
        "intersec =s1&s2\n",
        "print(intersec)\n",
        "diff = s1 - s2\n",
        "print(diff)\n",
        "\n"
      ],
      "metadata": {
        "colab": {
          "base_uri": "https://localhost:8080/"
        },
        "id": "m-H4nRwNyMpV",
        "outputId": "5eab0fe8-b0b6-44e9-e163-ee39e2958185"
      },
      "execution_count": null,
      "outputs": [
        {
          "output_type": "stream",
          "name": "stdout",
          "text": [
            "enter elements for set 1: 4567\n",
            "enter elements for set 2: 6789\n",
            "{'9', '8', '7', '6', '4', '5'}\n",
            "{'7', '6'}\n",
            "{'5', '4'}\n"
          ]
        }
      ]
    },
    {
      "cell_type": "code",
      "source": [
        "#7\n",
        "std={\"a\":10,\"b\":20,\"c\":70}\n",
        "for key,value in std.items():\n",
        "  if value>50:\n",
        "    print(key,value)"
      ],
      "metadata": {
        "colab": {
          "base_uri": "https://localhost:8080/"
        },
        "id": "jgbnvQpa2qLO",
        "outputId": "6158f52f-cb34-47cd-e81b-86eafedde8ca"
      },
      "execution_count": null,
      "outputs": [
        {
          "output_type": "stream",
          "name": "stdout",
          "text": [
            "c 70\n"
          ]
        }
      ]
    },
    {
      "cell_type": "code",
      "source": [
        "#8\n",
        "a = int(input(\"enter a number:\"))\n",
        "if a>0:\n",
        "  print(f\"{a} is positive number.\")\n",
        "elif a<0:\n",
        "  print(f\"{a} is a negative number.\")\n",
        "else:\n",
        "  print(\" it's zero\")"
      ],
      "metadata": {
        "colab": {
          "base_uri": "https://localhost:8080/"
        },
        "id": "LNXEg9hw1GKl",
        "outputId": "a36c8293-f11b-4382-d56f-997e276e070a"
      },
      "execution_count": null,
      "outputs": [
        {
          "output_type": "stream",
          "name": "stdout",
          "text": [
            "enter a number:56\n",
            "56 is positive number.\n"
          ]
        }
      ]
    },
    {
      "cell_type": "code",
      "source": [
        "#9\n",
        "for i in range(1,21):\n",
        "  if i%5 ==0:\n",
        "    continue\n",
        "  print(i)\n",
        "\"\"\"for i in range(1,21):\n",
        "  if i%5 !=0:\n",
        "    print(i)\"\"\""
      ],
      "metadata": {
        "colab": {
          "base_uri": "https://localhost:8080/",
          "height": 313
        },
        "id": "tX5X3qAb37Rq",
        "outputId": "325352a5-6584-418a-f3f4-6fbd81548d58"
      },
      "execution_count": null,
      "outputs": [
        {
          "output_type": "stream",
          "name": "stdout",
          "text": [
            "1\n",
            "2\n",
            "3\n",
            "4\n",
            "6\n",
            "7\n",
            "8\n",
            "9\n",
            "11\n",
            "12\n",
            "13\n",
            "14\n",
            "16\n",
            "17\n",
            "18\n",
            "19\n"
          ]
        },
        {
          "output_type": "execute_result",
          "data": {
            "text/plain": [
              "'for i in range(1,21):\\n  if i%5 !=0:\\n    print(i)'"
            ],
            "application/vnd.google.colaboratory.intrinsic+json": {
              "type": "string"
            }
          },
          "metadata": {},
          "execution_count": 64
        }
      ]
    },
    {
      "cell_type": "code",
      "source": [
        "#10\n",
        "#ab = 10==10\n",
        "total =0\n",
        "#while ab:\n",
        "while True:\n",
        "  n=input(\"enter number(to stop this loop,plzz type stop)\")\n",
        "  if n=='stop':\n",
        "    break\n",
        "  n=int(n)\n",
        "  total=total+n\n",
        "  print(total)\n",
        "\"\"\"\n",
        "or\n",
        "c =0\n",
        "for x in range(0,n)\n",
        "  a = int(input())\n",
        "  c +=a\n",
        "  print(a)\"\"\""
      ],
      "metadata": {
        "colab": {
          "base_uri": "https://localhost:8080/",
          "height": 53
        },
        "id": "srZIW5bh6Gt_",
        "outputId": "c05df3e5-1cfc-4115-a6e2-58651406468c"
      },
      "execution_count": null,
      "outputs": [
        {
          "name": "stdout",
          "output_type": "stream",
          "text": [
            "enter number(to stop this loop,plzz type stop)stop\n"
          ]
        },
        {
          "output_type": "execute_result",
          "data": {
            "text/plain": [
              "'\\nor\\nc =0\\nfor x in range(0,n)\\n  a = int(input())\\n  c +=a \\n  print(a)'"
            ],
            "application/vnd.google.colaboratory.intrinsic+json": {
              "type": "string"
            }
          },
          "metadata": {},
          "execution_count": 82
        }
      ]
    },
    {
      "cell_type": "code",
      "source": [
        "class person:\n",
        "  def __init__(self,name,age):\n",
        "    self.name=name\n",
        "    self.age =age\n",
        "\n",
        "obj = person(\"sha\",20)\n",
        "\n",
        "print(obj.age)\n",
        "print(obj.name)"
      ],
      "metadata": {
        "id": "HleZ6cnrAO65",
        "colab": {
          "base_uri": "https://localhost:8080/"
        },
        "outputId": "506d35d2-f976-4c8a-e6c3-82a61c93fa3a"
      },
      "execution_count": null,
      "outputs": [
        {
          "output_type": "stream",
          "name": "stdout",
          "text": [
            "20\n",
            "sha\n"
          ]
        }
      ]
    },
    {
      "cell_type": "code",
      "source": [
        "class person:\n",
        "  def __init__(self,name,age):\n",
        "    self.name=name\n",
        "    self.age = age\n",
        "  def __str__(self):\n",
        "    return f\"{self.name(self.age)}\"\n",
        "\n",
        "obj = person(\"sha\",20)\n",
        "print(obj.name,obj.age)\n",
        "print(obj.age)\n"
      ],
      "metadata": {
        "colab": {
          "base_uri": "https://localhost:8080/"
        },
        "id": "yDM1loKfQ6SZ",
        "outputId": "589e0c16-5998-4b8d-b9a9-276ab036653f"
      },
      "execution_count": null,
      "outputs": [
        {
          "output_type": "stream",
          "name": "stdout",
          "text": [
            "sha 20\n",
            "20\n"
          ]
        }
      ]
    },
    {
      "cell_type": "code",
      "source": [
        "class car:\n",
        "  def __init__(self,wheel,color,seat):\n",
        "    self.wheel = wheel\n",
        "    self.color = color\n",
        "    self.seat = seat\n",
        "obj = car(4,\"black\",2)\n",
        "print(obj.wheel,obj.seat,obj.color)\n"
      ],
      "metadata": {
        "colab": {
          "base_uri": "https://localhost:8080/"
        },
        "id": "DRhBDEACSe4_",
        "outputId": "c9887d3d-c698-47bd-f9b9-f4268c53a69f"
      },
      "execution_count": null,
      "outputs": [
        {
          "output_type": "stream",
          "name": "stdout",
          "text": [
            "4 2 black\n"
          ]
        }
      ]
    },
    {
      "cell_type": "code",
      "source": [
        "class person:\n",
        "  def __init__(self,name):\n",
        "    self.name = name\n",
        "\n",
        "  def fn1(self):\n",
        "    print(\"hello my name is \"+self.name)\n",
        "\n",
        "obj = person(\"sha\")\n",
        "obj.fn1()"
      ],
      "metadata": {
        "colab": {
          "base_uri": "https://localhost:8080/"
        },
        "id": "_l8JccuRXgjl",
        "outputId": "cf89eeb3-d0e0-4b0a-f791-f090f0b70fa2"
      },
      "execution_count": null,
      "outputs": [
        {
          "output_type": "stream",
          "name": "stdout",
          "text": [
            "hello my name is sha\n"
          ]
        }
      ]
    },
    {
      "cell_type": "code",
      "source": [
        "class person:\n",
        "  def __init__(myself,name,age):\n",
        "    myself.name = name\n",
        "    myself.age = age\n",
        "\n",
        "  def myfn(abc):\n",
        "    print(\"hello my name is \"+abc.name)\n",
        "\n",
        "obj = person(\"shah\",30)\n",
        "obj.myfn()"
      ],
      "metadata": {
        "colab": {
          "base_uri": "https://localhost:8080/"
        },
        "id": "fQPO_sfHoNty",
        "outputId": "f8bc1169-2d43-4733-c457-10a404740b5a"
      },
      "execution_count": null,
      "outputs": [
        {
          "output_type": "stream",
          "name": "stdout",
          "text": [
            "hello my name is shah\n"
          ]
        }
      ]
    },
    {
      "cell_type": "code",
      "source": [
        "class p:\n",
        "  def __init__(self,name,age):\n",
        "    self.name = name\n",
        "    self.age = age\n",
        "\n",
        "  def myfn(self):\n",
        "    print(\"hello ,my name is \",self.name)\n",
        "obj = person(\"sha\",20)\n",
        "obj.age = 25\n",
        "print(obj.age)"
      ],
      "metadata": {
        "colab": {
          "base_uri": "https://localhost:8080/"
        },
        "id": "CUkCXLXXrRti",
        "outputId": "ee7cbf92-221f-409d-a5ce-1d8eca07fba2"
      },
      "execution_count": null,
      "outputs": [
        {
          "output_type": "stream",
          "name": "stdout",
          "text": [
            "25\n"
          ]
        }
      ]
    },
    {
      "cell_type": "code",
      "source": [
        "class p:\n",
        "  def __init__(self,name,age):\n",
        "    self.name = name\n",
        "    self.age = age\n",
        "\n",
        "  def fn(self):\n",
        "    print(\"hello,my name is \",self.name)\n",
        "\n",
        "obj = p(\"sh\",45)\n",
        "try:\n",
        "  del obj.age\n",
        "  print(obj.age)\n",
        "except Exception as e:\n",
        "  print(\"age deleted..\")\n",
        "\n",
        "#where we ddeleted the age ., so we can't print it."
      ],
      "metadata": {
        "colab": {
          "base_uri": "https://localhost:8080/"
        },
        "id": "p_yWVXJttHWr",
        "outputId": "18569135-022c-4a50-cbbf-4a980ad66915"
      },
      "execution_count": null,
      "outputs": [
        {
          "output_type": "stream",
          "name": "stdout",
          "text": [
            "age deleted..\n"
          ]
        }
      ]
    },
    {
      "cell_type": "code",
      "source": [
        "class bank:\n",
        "  def __init__(self,owner,balance=0):\n",
        "    self.owner = owner\n",
        "    self.balance = balance\n",
        "\n",
        "  def deposit(self,amount):\n",
        "    self.balance +=amount\n",
        "    print(f\"{amount}is deposited ,new balance is {self.balance}\")\n",
        "\n",
        "  def withdraw(self,amount):\n",
        "    if amount>self.balance:\n",
        "      print(\"insufficient balance...\")\n",
        "    else:\n",
        "      self.balance -=amount\n",
        "      print(f\"{amount} is withdraw , new balance is {self.balance}\")\n",
        "  def get_balance(self):\n",
        "    return self.balance\n",
        "#also account.name = \"sha\"\n",
        "  account=bank(\"shahal\",50000)\n",
        "  print(account.balance)\n",
        "  account.deposit(5000)#account.deposit = 7000 check it !!buddy\n",
        "  account.withdraw(10000)\n",
        "  account.withdraw(1000000)\n",
        "  print(\"youre balance is \",account.get_balance())\n"
      ],
      "metadata": {
        "id": "5K_VjaV3vFRy",
        "colab": {
          "base_uri": "https://localhost:8080/"
        },
        "outputId": "1ce37009-63af-4385-a769-18854148edec"
      },
      "execution_count": null,
      "outputs": [
        {
          "output_type": "stream",
          "name": "stdout",
          "text": [
            "50000\n",
            "5000is deposited ,new balance is 55000\n",
            "10000 is withdraw , new balance is 45000\n",
            "insufficient balance...\n",
            "youre balance is  45000\n"
          ]
        }
      ]
    },
    {
      "cell_type": "code",
      "source": [
        "#library"
      ],
      "metadata": {
        "id": "iZnRBWUCWDT6"
      },
      "execution_count": null,
      "outputs": []
    },
    {
      "cell_type": "code",
      "source": [
        "class parent:\n",
        "  def greet(self):\n",
        "    print(\"hello from parent..\")\n",
        "\n",
        "class child():\n",
        "  def greet_child(self):\n",
        "    print(\"hello from child...\")\n",
        "\n",
        "obj = child()\n",
        "obj.greet()\n",
        "\n",
        "#why???just think about it and wonder!!!next problrm will solve it"
      ],
      "metadata": {
        "colab": {
          "base_uri": "https://localhost:8080/",
          "height": 176
        },
        "id": "-gYlAIyYWnuQ",
        "outputId": "3d7b80dc-a9ab-45fd-b09a-60ee6d2cd7b0"
      },
      "execution_count": null,
      "outputs": [
        {
          "output_type": "error",
          "ename": "NameError",
          "evalue": "name 'c' is not defined",
          "traceback": [
            "\u001b[0;31m---------------------------------------------------------------------------\u001b[0m",
            "\u001b[0;31mNameError\u001b[0m                                 Traceback (most recent call last)",
            "\u001b[0;32m/tmp/ipython-input-3011097367.py\u001b[0m in \u001b[0;36m<cell line: 0>\u001b[0;34m()\u001b[0m\n\u001b[1;32m      8\u001b[0m \u001b[0;34m\u001b[0m\u001b[0m\n\u001b[1;32m      9\u001b[0m \u001b[0mobj\u001b[0m \u001b[0;34m=\u001b[0m \u001b[0mchild\u001b[0m\u001b[0;34m(\u001b[0m\u001b[0;34m)\u001b[0m\u001b[0;34m\u001b[0m\u001b[0;34m\u001b[0m\u001b[0m\n\u001b[0;32m---> 10\u001b[0;31m \u001b[0mc\u001b[0m\u001b[0;34m.\u001b[0m\u001b[0mgreet\u001b[0m\u001b[0;34m(\u001b[0m\u001b[0;34m)\u001b[0m\u001b[0;34m\u001b[0m\u001b[0;34m\u001b[0m\u001b[0m\n\u001b[0m",
            "\u001b[0;31mNameError\u001b[0m: name 'c' is not defined"
          ]
        }
      ]
    },
    {
      "cell_type": "code",
      "source": [
        "class parent:\n",
        "  def greet(self):\n",
        "    print(\"hello from parent\")\n",
        "\n",
        "class child(parent):\n",
        "  def greet(self):\n",
        "    print(\"hello from parent\")\n",
        "\n",
        "obbj = child()\n",
        "obbj.greet()"
      ],
      "metadata": {
        "colab": {
          "base_uri": "https://localhost:8080/"
        },
        "id": "NoZjOxZBovMF",
        "outputId": "c8dffa8a-a485-4aab-b408-39e65bef641c"
      },
      "execution_count": null,
      "outputs": [
        {
          "output_type": "stream",
          "name": "stdout",
          "text": [
            "hello from parent\n"
          ]
        }
      ]
    },
    {
      "cell_type": "code",
      "source": [
        "class mother:\n",
        "  def greet(self):\n",
        "    print(\"hello from mother\")\n",
        "\n",
        "class father:\n",
        "  def greetf(self):\n",
        "    print(\"hello from father\")\n",
        "\n",
        "class child(mother,father):\n",
        "  def greettt(self):\n",
        "    print(\"hello from child\")\n",
        "\n",
        "c = child()\n",
        "c.greet()\n",
        "c.greetf()\n",
        "c.greettt()"
      ],
      "metadata": {
        "colab": {
          "base_uri": "https://localhost:8080/"
        },
        "id": "F0kbytcNpzj_",
        "outputId": "8004727a-f1fb-4aee-97da-3156c7ac880a"
      },
      "execution_count": null,
      "outputs": [
        {
          "output_type": "stream",
          "name": "stdout",
          "text": [
            "hello from mother\n",
            "hello from father\n",
            "hello from child\n"
          ]
        }
      ]
    },
    {
      "cell_type": "code",
      "source": [
        "#multilevel\n",
        "class apple1:#its first class\n",
        "  def iphone1(self):\n",
        "    print(\"iphone 1\")\n",
        "class apple2(apple1):#we inherit properties and attributes of apple1\n",
        "  def iphone2(self):\n",
        "    print(\"iphone 2\")\n",
        "class apple3(apple2):#we inherit all from apple2 ,but the fun fact is the apple 2 contain apple 1\n",
        "  def iphone3(self):\n",
        "    print(\"iphone 3\")\n",
        "\n",
        "c = apple3()\n",
        "c.iphone1()"
      ],
      "metadata": {
        "colab": {
          "base_uri": "https://localhost:8080/"
        },
        "id": "aAPkKBsMp3mQ",
        "outputId": "660d7e90-a674-49c9-f397-1799656a6ea0"
      },
      "execution_count": null,
      "outputs": [
        {
          "output_type": "stream",
          "name": "stdout",
          "text": [
            "iphone 1\n"
          ]
        }
      ]
    },
    {
      "cell_type": "code",
      "source": [
        "#multilevel , notice the error\n",
        "class apple1:#its first class\n",
        "  def iphone1(self):\n",
        "    print(\"iphone 1\")\n",
        "class apple2(apple1):#we inherit properties and attributes of apple1\n",
        "  def iphone2(self):\n",
        "    print(\"iphone 2\")\n",
        "class apple3(apple2):#we inherit all from apple2 ,but the fun fact is the apple 2 contain apple 1\n",
        "  def iphone3(self):\n",
        "    print(\"iphone 3\")\n",
        "x =apple1()\n",
        "x.iphone2()\n",
        "c = apple3()\n",
        "c.iphone1()"
      ],
      "metadata": {
        "colab": {
          "base_uri": "https://localhost:8080/",
          "height": 211
        },
        "id": "ZwYusFBxqwwv",
        "outputId": "7a567ad0-0562-471f-f9d7-9ab55cd79c46"
      },
      "execution_count": null,
      "outputs": [
        {
          "output_type": "error",
          "ename": "AttributeError",
          "evalue": "'apple1' object has no attribute 'iphone2'",
          "traceback": [
            "\u001b[0;31m---------------------------------------------------------------------------\u001b[0m",
            "\u001b[0;31mAttributeError\u001b[0m                            Traceback (most recent call last)",
            "\u001b[0;32m/tmp/ipython-input-3778949773.py\u001b[0m in \u001b[0;36m<cell line: 0>\u001b[0;34m()\u001b[0m\n\u001b[1;32m     10\u001b[0m     \u001b[0mprint\u001b[0m\u001b[0;34m(\u001b[0m\u001b[0;34m\"iphone 3\"\u001b[0m\u001b[0;34m)\u001b[0m\u001b[0;34m\u001b[0m\u001b[0;34m\u001b[0m\u001b[0m\n\u001b[1;32m     11\u001b[0m \u001b[0mx\u001b[0m \u001b[0;34m=\u001b[0m\u001b[0mapple1\u001b[0m\u001b[0;34m(\u001b[0m\u001b[0;34m)\u001b[0m\u001b[0;34m\u001b[0m\u001b[0;34m\u001b[0m\u001b[0m\n\u001b[0;32m---> 12\u001b[0;31m \u001b[0mx\u001b[0m\u001b[0;34m.\u001b[0m\u001b[0miphone2\u001b[0m\u001b[0;34m(\u001b[0m\u001b[0;34m)\u001b[0m\u001b[0;34m\u001b[0m\u001b[0;34m\u001b[0m\u001b[0m\n\u001b[0m\u001b[1;32m     13\u001b[0m \u001b[0mc\u001b[0m \u001b[0;34m=\u001b[0m \u001b[0mapple3\u001b[0m\u001b[0;34m(\u001b[0m\u001b[0;34m)\u001b[0m\u001b[0;34m\u001b[0m\u001b[0;34m\u001b[0m\u001b[0m\n\u001b[1;32m     14\u001b[0m \u001b[0mc\u001b[0m\u001b[0;34m.\u001b[0m\u001b[0miphone1\u001b[0m\u001b[0;34m(\u001b[0m\u001b[0;34m)\u001b[0m\u001b[0;34m\u001b[0m\u001b[0;34m\u001b[0m\u001b[0m\n",
            "\u001b[0;31mAttributeError\u001b[0m: 'apple1' object has no attribute 'iphone2'"
          ]
        }
      ]
    },
    {
      "cell_type": "code",
      "source": [
        "#hierarchy\n",
        "class a:\n",
        "  def fn1(self):\n",
        "    print(\"hello from a\")\n",
        "\n",
        "class b(a):\n",
        "  def fn2(self):\n",
        "    print(\"hello from b\")\n",
        "\n",
        "class c(a):\n",
        "  def fn3(self):\n",
        "   print(\"hello from c\")\n",
        "\n",
        "ob1 =b()\n",
        "ob1.fn1()\n",
        "ob2 = c()\n",
        "ob2.fn1()\n"
      ],
      "metadata": {
        "colab": {
          "base_uri": "https://localhost:8080/"
        },
        "id": "lWL5-f86sYOQ",
        "outputId": "9a49ea85-8a0b-4944-a46d-50226b9f7a53"
      },
      "execution_count": null,
      "outputs": [
        {
          "output_type": "stream",
          "name": "stdout",
          "text": [
            "hello from a\n",
            "hello from a\n"
          ]
        }
      ]
    },
    {
      "cell_type": "code",
      "source": [
        "#hybrid\n",
        "class a:\n",
        "  def fn1(self):\n",
        "    print(\"hello from a\")\n",
        "class b(a):\n",
        "  def fn2(self):\n",
        "    print(\"hello from b\")\n",
        "class c(b):\n",
        "  def fn3(self):\n",
        "    print(\"helloo from c\")\n",
        "class d(b):\n",
        "  def fn4(self):\n",
        "    print(\"hello from d\")\n",
        "\n",
        "obj1 = d()\n",
        "obj1.fn1()\n",
        "obj2 = c()\n",
        "obj2.fn2()"
      ],
      "metadata": {
        "colab": {
          "base_uri": "https://localhost:8080/"
        },
        "id": "EBegpYMps5-k",
        "outputId": "f55b8e09-d689-4071-f4b6-888519606f40"
      },
      "execution_count": null,
      "outputs": [
        {
          "output_type": "stream",
          "name": "stdout",
          "text": [
            "hello from a\n",
            "hello from b\n"
          ]
        }
      ]
    },
    {
      "cell_type": "code",
      "source": [],
      "metadata": {
        "id": "wC3Uf3eWuGPL"
      },
      "execution_count": null,
      "outputs": []
    }
  ]
}