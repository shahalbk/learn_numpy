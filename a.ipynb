{
 "cells": [
  {
   "cell_type": "code",
   "execution_count": null,
   "id": "c811837d",
   "metadata": {},
   "outputs": [],
   "source": []
  },
  {
   "cell_type": "code",
   "execution_count": null,
   "id": "4c41bac4",
   "metadata": {},
   "outputs": [],
   "source": [
    "class person:\n",
    "    def __init__(self,name,blood):\n",
    "        self.name = name\n",
    "        self.__blood = blood\n",
    "    def get_name(person):\n",
    "        return person.name,person.__blood \n",
    "\n",
    "  obj = person(\"john\",\"a pos\")\n",
    "  name , blood = get_name()\n"
   ]
  },
  {
   "cell_type": "code",
   "execution_count": null,
   "id": "07f2ba39",
   "metadata": {},
   "outputs": [
    {
     "data": {
      "text/plain": [
       "['__class__',\n",
       " '__delattr__',\n",
       " '__dict__',\n",
       " '__dir__',\n",
       " '__doc__',\n",
       " '__eq__',\n",
       " '__format__',\n",
       " '__ge__',\n",
       " '__getattribute__',\n",
       " '__getstate__',\n",
       " '__gt__',\n",
       " '__hash__',\n",
       " '__init__',\n",
       " '__init_subclass__',\n",
       " '__le__',\n",
       " '__lt__',\n",
       " '__module__',\n",
       " '__ne__',\n",
       " '__new__',\n",
       " '__reduce__',\n",
       " '__reduce_ex__',\n",
       " '__repr__',\n",
       " '__setattr__',\n",
       " '__sizeof__',\n",
       " '__str__',\n",
       " '__subclasshook__',\n",
       " '__weakref__',\n",
       " 'get_name']"
      ]
     },
     "execution_count": 13,
     "metadata": {},
     "output_type": "execute_result"
    }
   ],
   "source": [
    "dir(person)#"
   ]
  },
  {
   "cell_type": "code",
   "execution_count": 10,
   "id": "89a99998",
   "metadata": {},
   "outputs": [],
   "source": [
    "class person:\n",
    "    def __init__(self,name,blood):\n",
    "        self.name = name\n",
    "        self.__blood = blood\n",
    "    def get_name(person):\n",
    "        return person.name,person.__blood \n",
    "\n",
    "obj = person(\"john\",\"a pos\")\n",
    "name = obj.get_name()\n",
    "    "
   ]
  },
  {
   "cell_type": "code",
   "execution_count": 1,
   "id": "92fa9810",
   "metadata": {},
   "outputs": [
    {
     "name": "stdout",
     "output_type": "stream",
     "text": [
      "john\n",
      "12\n",
      "34\n",
      "age can't be negative...\n"
     ]
    }
   ],
   "source": [
    "class person:\n",
    "    def __init__(self,name,age):\n",
    "        self.name = name\n",
    "        self.__age= age\n",
    "    def get_name(self):\n",
    "        return self.name\n",
    "\n",
    "    def set_name(self,name):\n",
    "        self.__name = name\n",
    "\n",
    "    def get_age(self):\n",
    "        return self.__age\n",
    "    \n",
    "    def set_age(self,age):\n",
    "        if age >0:\n",
    "            self.__age = age\n",
    "        else:\n",
    "            print(\"age can't be negative...\")\n",
    "obj = person(\"john\",12)\n",
    "print(obj.get_name())\n",
    "print(obj.get_age())\n",
    "\n",
    "obj.set_age(34)\n",
    "print(obj.get_age())\n",
    "\n",
    "obj.set_age(-5)\n"
   ]
  },
  {
   "cell_type": "code",
   "execution_count": 19,
   "id": "bc60bb51",
   "metadata": {},
   "outputs": [
    {
     "name": "stdout",
     "output_type": "stream",
     "text": [
      "i am protected\n"
     ]
    },
    {
     "ename": "AttributeError",
     "evalue": "'child' object has no attribute '_child__private'",
     "output_type": "error",
     "traceback": [
      "\u001b[31m---------------------------------------------------------------------------\u001b[39m",
      "\u001b[31mAttributeError\u001b[39m                            Traceback (most recent call last)",
      "\u001b[36mCell\u001b[39m\u001b[36m \u001b[39m\u001b[32mIn[19]\u001b[39m\u001b[32m, line 12\u001b[39m\n\u001b[32m      9\u001b[39m         \u001b[38;5;28mprint\u001b[39m(\u001b[38;5;28mself\u001b[39m.__private)\n\u001b[32m     11\u001b[39m ob = child()\n\u001b[32m---> \u001b[39m\u001b[32m12\u001b[39m \u001b[43mob\u001b[49m\u001b[43m.\u001b[49m\u001b[43mshow\u001b[49m\u001b[43m(\u001b[49m\u001b[43m)\u001b[49m\n",
      "\u001b[36mCell\u001b[39m\u001b[36m \u001b[39m\u001b[32mIn[19]\u001b[39m\u001b[32m, line 9\u001b[39m, in \u001b[36mchild.show\u001b[39m\u001b[34m(self)\u001b[39m\n\u001b[32m      7\u001b[39m \u001b[38;5;28;01mdef\u001b[39;00m\u001b[38;5;250m \u001b[39m\u001b[34mshow\u001b[39m(\u001b[38;5;28mself\u001b[39m):\n\u001b[32m      8\u001b[39m     \u001b[38;5;28mprint\u001b[39m(\u001b[38;5;28mself\u001b[39m._protected)\n\u001b[32m----> \u001b[39m\u001b[32m9\u001b[39m     \u001b[38;5;28mprint\u001b[39m(\u001b[38;5;28;43mself\u001b[39;49m\u001b[43m.\u001b[49m\u001b[43m__private\u001b[49m)\n",
      "\u001b[31mAttributeError\u001b[39m: 'child' object has no attribute '_child__private'"
     ]
    }
   ],
   "source": [
    "class parent:\n",
    "    def __init__(self):\n",
    "        self._protected =\"i am protected\"\n",
    "        self.__private = \" i am private\"\n",
    "\n",
    "class child(parent):\n",
    "    def show(self):\n",
    "        print(self._protected)\n",
    "        print(self.__private)\n",
    "\n",
    "ob = child()\n",
    "ob.show()"
   ]
  },
  {
   "cell_type": "code",
   "execution_count": 21,
   "id": "4ee80b6c",
   "metadata": {},
   "outputs": [
    {
     "name": "stdout",
     "output_type": "stream",
     "text": [
      "i am protected\n"
     ]
    }
   ],
   "source": [
    "class parent:\n",
    "    def __init__(self):\n",
    "        self._protected =\"i am protected\"\n",
    "        self.__private = \" i am private\"\n",
    "\n",
    "class child(parent):\n",
    "    def show(self):\n",
    "        print(self._protected)\n",
    "#        print(self.__private)\n",
    "\n",
    "ob = child()\n",
    "ob.show()"
   ]
  },
  {
   "cell_type": "code",
   "execution_count": 6,
   "id": "23b00985",
   "metadata": {},
   "outputs": [
    {
     "name": "stdout",
     "output_type": "stream",
     "text": [
      "my name is joy and i am 23 years old..\n"
     ]
    }
   ],
   "source": [
    "class person:\n",
    "    def __init__(self,name,age):\n",
    "        self.__name = name\n",
    "        self.__age =age\n",
    "\n",
    "    def getname(self):\n",
    "        return self.__name\n",
    "    \n",
    "    def getage(self):\n",
    "        return self.__age\n",
    "    \n",
    "class student(person):\n",
    "    def intro(self):\n",
    "        print(f\"my name is {self.getname()} and i am {self.getage()} years old..\")\n",
    "\n",
    "s = student(\"joy\",23)\n",
    "s.intro()\n"
   ]
  },
  {
   "cell_type": "code",
   "execution_count": 23,
   "id": "e3ca3397",
   "metadata": {},
   "outputs": [
    {
     "ename": "TypeError",
     "evalue": "Can't instantiate abstract class brocken with abstract method turn_on",
     "output_type": "error",
     "traceback": [
      "\u001b[31m---------------------------------------------------------------------------\u001b[39m",
      "\u001b[31mTypeError\u001b[39m                                 Traceback (most recent call last)",
      "\u001b[36mCell\u001b[39m\u001b[36m \u001b[39m\u001b[32mIn[23]\u001b[39m\u001b[32m, line 15\u001b[39m\n\u001b[32m     12\u001b[39m \u001b[38;5;28;01mclass\u001b[39;00m\u001b[38;5;250m \u001b[39m\u001b[34;01mbrocken\u001b[39;00m(appliences):\n\u001b[32m     13\u001b[39m     \u001b[38;5;28;01mpass\u001b[39;00m\n\u001b[32m---> \u001b[39m\u001b[32m15\u001b[39m b= \u001b[43mbrocken\u001b[49m\u001b[43m(\u001b[49m\u001b[43m)\u001b[49m\n",
      "\u001b[31mTypeError\u001b[39m: Can't instantiate abstract class brocken with abstract method turn_on"
     ]
    }
   ],
   "source": [
    "from abc import ABC, abstractmethod\n",
    "\n",
    "class appliences(ABC):\n",
    "\n",
    "    @abstractmethod\n",
    "    def turn_on(self):\n",
    "        pass\n",
    "\n",
    "    def turn_off(self):\n",
    "        pass\n",
    "\n",
    "class brocken(appliences):\n",
    "    pass\n",
    "\n",
    "b= brocken()"
   ]
  },
  {
   "cell_type": "code",
   "execution_count": null,
   "id": "bbb2a744",
   "metadata": {},
   "outputs": [],
   "source": [
    "from abc import ABC, abstractmethod\n",
    "\n",
    "class appliences(ABC):\n",
    "\n",
    "    @abstractmethod\n",
    "    def turn_on(self):\n",
    "        pass\n",
    "\n",
    "    def turn_off(self):\n",
    "        pass\n",
    "\n",
    "class brocken(appliences):\n",
    "    def turn_on(self):\n",
    "        pass\n",
    "\n",
    "b= brocken()"
   ]
  },
  {
   "cell_type": "code",
   "execution_count": 7,
   "id": "c3915cc3",
   "metadata": {},
   "outputs": [
    {
     "name": "stdout",
     "output_type": "stream",
     "text": [
      "nothing\n"
     ]
    }
   ],
   "source": [
    "from abc import ABC, abstractmethod\n",
    "\n",
    "class appliences(ABC):\n",
    "\n",
    "    @abstractmethod\n",
    "    def turn_on(self):\n",
    "        pass\n",
    "\n",
    "\n",
    "class brocken(appliences):\n",
    "    def turn_on(self):\n",
    "        print(\"nothing\")\n",
    "\n",
    "    def forprint(jp):\n",
    "        jp.turn_on()\n",
    "\n",
    "b= brocken()\n",
    "#forprint(b)\n",
    "b.forprint()"
   ]
  },
  {
   "cell_type": "code",
   "execution_count": null,
   "id": "b175e34f",
   "metadata": {},
   "outputs": [],
   "source": []
  }
 ],
 "metadata": {
  "kernelspec": {
   "display_name": "Python 3",
   "language": "python",
   "name": "python3"
  },
  "language_info": {
   "codemirror_mode": {
    "name": "ipython",
    "version": 3
   },
   "file_extension": ".py",
   "mimetype": "text/x-python",
   "name": "python",
   "nbconvert_exporter": "python",
   "pygments_lexer": "ipython3",
   "version": "3.11.9"
  }
 },
 "nbformat": 4,
 "nbformat_minor": 5
}
